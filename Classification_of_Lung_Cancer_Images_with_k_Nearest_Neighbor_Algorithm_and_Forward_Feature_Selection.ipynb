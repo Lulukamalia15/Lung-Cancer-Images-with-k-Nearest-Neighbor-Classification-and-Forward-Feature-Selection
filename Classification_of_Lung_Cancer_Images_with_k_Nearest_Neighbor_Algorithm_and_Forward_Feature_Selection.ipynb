{
  "nbformat": 4,
  "nbformat_minor": 0,
  "metadata": {
    "colab": {
      "provenance": []
    },
    "kernelspec": {
      "name": "python3",
      "display_name": "Python 3"
    },
    "language_info": {
      "name": "python"
    },
    "gpuClass": "standard"
  },
  "cells": [
    {
      "cell_type": "markdown",
      "source": [
        "#Read Images Dataset from Feature Extraction Result with Gray Level Co-occurrence Matrix Method"
      ],
      "metadata": {
        "id": "kZBW3lIEHmAL"
      }
    },
    {
      "cell_type": "code",
      "source": [
        "# Import Library pandas\n",
        "import pandas as pd"
      ],
      "metadata": {
        "id": "CSGBiZ-BIJUI"
      },
      "execution_count": null,
      "outputs": []
    },
    {
      "cell_type": "code",
      "execution_count": null,
      "metadata": {
        "colab": {
          "base_uri": "https://localhost:8080/",
          "height": 540
        },
        "id": "1Sj7YTOTGnhF",
        "outputId": "22a8fef2-f2b8-4876-f385-25ae9ec7c9a9"
      },
      "outputs": [
        {
          "output_type": "execute_result",
          "data": {
            "text/plain": [
              "     Sum Variance  Kurtosis  Skewness  Sum of Squares  Sum Average  \\\n",
              "0        4.651714  1.820828  0.656740        1.303263     2.592611   \n",
              "1        4.042301  2.206878  1.015802        1.001869     2.351495   \n",
              "2        4.159789  2.135798  0.944876        1.085250     2.418110   \n",
              "3        5.596343  1.131553  0.099499        1.650358     2.869640   \n",
              "4        5.063379  1.472309  0.366186        1.475020     2.729534   \n",
              "..            ...       ...       ...             ...          ...   \n",
              "995      4.231594  2.092978  0.903530        1.124757     2.449805   \n",
              "996      4.268530  2.079846  0.891024        1.134379     2.457503   \n",
              "997      3.916130  2.249905  1.060559        0.939573     2.301659   \n",
              "998      5.063934  1.492983  0.382852        1.463716     2.720973   \n",
              "999      4.838849  1.672958  0.530755        1.379390     2.653128   \n",
              "\n",
              "     Maximal Correlation Coefficient  Standar Deviation    Energy  Variance  \\\n",
              "0                           0.700963           0.330429  0.577550  0.109183   \n",
              "1                           0.821995           0.389779  0.705784  0.151928   \n",
              "2                           0.787704           0.370971  0.662858  0.137619   \n",
              "3                           0.561822           0.289728  0.501826  0.083942   \n",
              "4                           0.631590           0.305147  0.529344  0.093115   \n",
              "..                               ...                ...       ...       ...   \n",
              "995                         0.771673           0.362655  0.644555  0.131518   \n",
              "996                         0.768344           0.361190  0.641376  0.130459   \n",
              "997                         0.846119           0.403226  0.737774  0.162591   \n",
              "998                         0.636687           0.307304  0.533306  0.094435   \n",
              "999                         0.670651           0.318654  0.554622  0.101541   \n",
              "\n",
              "     Angular Second Moment  ...  Correlation  \\\n",
              "0                 0.577550  ...     0.986900   \n",
              "1                 0.705784  ...     0.984413   \n",
              "2                 0.662858  ...     0.980399   \n",
              "3                 0.501826  ...     0.986336   \n",
              "4                 0.529344  ...     0.984281   \n",
              "..                     ...  ...          ...   \n",
              "995               0.644555  ...     0.980355   \n",
              "996               0.641376  ...     0.983536   \n",
              "997               0.737774  ...     0.976171   \n",
              "998               0.533306  ...     0.987738   \n",
              "999               0.554622  ...     0.987337   \n",
              "\n",
              "     Informations Measures of Correlation I  Difference Entropy  Homogeneity  \\\n",
              "0                                 -0.945022            0.033909     0.997269   \n",
              "1                                 -0.940517            0.028892     0.997742   \n",
              "2                                 -0.926220            0.039123     0.996759   \n",
              "3                                 -0.941155            0.040296     0.996642   \n",
              "4                                 -0.934547            0.043114     0.996358   \n",
              "..                                      ...                 ...          ...   \n",
              "995                               -0.925497            0.040958     0.996576   \n",
              "996                               -0.935508            0.035701     0.997095   \n",
              "997                               -0.917129            0.037208     0.996948   \n",
              "998                               -0.946968            0.034897     0.997173   \n",
              "999                               -0.945826            0.034464     0.997215   \n",
              "\n",
              "     Dissimilarity  Contrast  Inverse Difference Moment  Difference Variance  \\\n",
              "0         0.005463  0.005463                   0.998907             0.005463   \n",
              "1         0.004516  0.004516                   0.999097             0.004516   \n",
              "2         0.006482  0.006482                   0.998704             0.006482   \n",
              "3         0.006716  0.006716                   0.998657             0.006716   \n",
              "4         0.007285  0.007285                   0.998543             0.007285   \n",
              "..             ...       ...                        ...                  ...   \n",
              "995       0.006849  0.006849                   0.998630             0.006849   \n",
              "996       0.005809  0.005809                   0.998838             0.005809   \n",
              "997       0.006104  0.006104                   0.998779             0.006104   \n",
              "998       0.005654  0.005654                   0.998869             0.005654   \n",
              "999       0.005570  0.005570                   0.998886             0.005570   \n",
              "\n",
              "     Mean  Klasifikasi  \n",
              "0    0.25       Cancer  \n",
              "1    0.25       Normal  \n",
              "2    0.25       Cancer  \n",
              "3    0.25       Cancer  \n",
              "4    0.25       Cancer  \n",
              "..    ...          ...  \n",
              "995  0.25       Normal  \n",
              "996  0.25       Cancer  \n",
              "997  0.25       Cancer  \n",
              "998  0.25       Normal  \n",
              "999  0.25       Normal  \n",
              "\n",
              "[1000 rows x 23 columns]"
            ],
            "text/html": [
              "\n",
              "  <div id=\"df-59f7a6d3-2a67-4f93-969c-51c2f55cb1cb\">\n",
              "    <div class=\"colab-df-container\">\n",
              "      <div>\n",
              "<style scoped>\n",
              "    .dataframe tbody tr th:only-of-type {\n",
              "        vertical-align: middle;\n",
              "    }\n",
              "\n",
              "    .dataframe tbody tr th {\n",
              "        vertical-align: top;\n",
              "    }\n",
              "\n",
              "    .dataframe thead th {\n",
              "        text-align: right;\n",
              "    }\n",
              "</style>\n",
              "<table border=\"1\" class=\"dataframe\">\n",
              "  <thead>\n",
              "    <tr style=\"text-align: right;\">\n",
              "      <th></th>\n",
              "      <th>Sum Variance</th>\n",
              "      <th>Kurtosis</th>\n",
              "      <th>Skewness</th>\n",
              "      <th>Sum of Squares</th>\n",
              "      <th>Sum Average</th>\n",
              "      <th>Maximal Correlation Coefficient</th>\n",
              "      <th>Standar Deviation</th>\n",
              "      <th>Energy</th>\n",
              "      <th>Variance</th>\n",
              "      <th>Angular Second Moment</th>\n",
              "      <th>...</th>\n",
              "      <th>Correlation</th>\n",
              "      <th>Informations Measures of Correlation I</th>\n",
              "      <th>Difference Entropy</th>\n",
              "      <th>Homogeneity</th>\n",
              "      <th>Dissimilarity</th>\n",
              "      <th>Contrast</th>\n",
              "      <th>Inverse Difference Moment</th>\n",
              "      <th>Difference Variance</th>\n",
              "      <th>Mean</th>\n",
              "      <th>Klasifikasi</th>\n",
              "    </tr>\n",
              "  </thead>\n",
              "  <tbody>\n",
              "    <tr>\n",
              "      <th>0</th>\n",
              "      <td>4.651714</td>\n",
              "      <td>1.820828</td>\n",
              "      <td>0.656740</td>\n",
              "      <td>1.303263</td>\n",
              "      <td>2.592611</td>\n",
              "      <td>0.700963</td>\n",
              "      <td>0.330429</td>\n",
              "      <td>0.577550</td>\n",
              "      <td>0.109183</td>\n",
              "      <td>0.577550</td>\n",
              "      <td>...</td>\n",
              "      <td>0.986900</td>\n",
              "      <td>-0.945022</td>\n",
              "      <td>0.033909</td>\n",
              "      <td>0.997269</td>\n",
              "      <td>0.005463</td>\n",
              "      <td>0.005463</td>\n",
              "      <td>0.998907</td>\n",
              "      <td>0.005463</td>\n",
              "      <td>0.25</td>\n",
              "      <td>Cancer</td>\n",
              "    </tr>\n",
              "    <tr>\n",
              "      <th>1</th>\n",
              "      <td>4.042301</td>\n",
              "      <td>2.206878</td>\n",
              "      <td>1.015802</td>\n",
              "      <td>1.001869</td>\n",
              "      <td>2.351495</td>\n",
              "      <td>0.821995</td>\n",
              "      <td>0.389779</td>\n",
              "      <td>0.705784</td>\n",
              "      <td>0.151928</td>\n",
              "      <td>0.705784</td>\n",
              "      <td>...</td>\n",
              "      <td>0.984413</td>\n",
              "      <td>-0.940517</td>\n",
              "      <td>0.028892</td>\n",
              "      <td>0.997742</td>\n",
              "      <td>0.004516</td>\n",
              "      <td>0.004516</td>\n",
              "      <td>0.999097</td>\n",
              "      <td>0.004516</td>\n",
              "      <td>0.25</td>\n",
              "      <td>Normal</td>\n",
              "    </tr>\n",
              "    <tr>\n",
              "      <th>2</th>\n",
              "      <td>4.159789</td>\n",
              "      <td>2.135798</td>\n",
              "      <td>0.944876</td>\n",
              "      <td>1.085250</td>\n",
              "      <td>2.418110</td>\n",
              "      <td>0.787704</td>\n",
              "      <td>0.370971</td>\n",
              "      <td>0.662858</td>\n",
              "      <td>0.137619</td>\n",
              "      <td>0.662858</td>\n",
              "      <td>...</td>\n",
              "      <td>0.980399</td>\n",
              "      <td>-0.926220</td>\n",
              "      <td>0.039123</td>\n",
              "      <td>0.996759</td>\n",
              "      <td>0.006482</td>\n",
              "      <td>0.006482</td>\n",
              "      <td>0.998704</td>\n",
              "      <td>0.006482</td>\n",
              "      <td>0.25</td>\n",
              "      <td>Cancer</td>\n",
              "    </tr>\n",
              "    <tr>\n",
              "      <th>3</th>\n",
              "      <td>5.596343</td>\n",
              "      <td>1.131553</td>\n",
              "      <td>0.099499</td>\n",
              "      <td>1.650358</td>\n",
              "      <td>2.869640</td>\n",
              "      <td>0.561822</td>\n",
              "      <td>0.289728</td>\n",
              "      <td>0.501826</td>\n",
              "      <td>0.083942</td>\n",
              "      <td>0.501826</td>\n",
              "      <td>...</td>\n",
              "      <td>0.986336</td>\n",
              "      <td>-0.941155</td>\n",
              "      <td>0.040296</td>\n",
              "      <td>0.996642</td>\n",
              "      <td>0.006716</td>\n",
              "      <td>0.006716</td>\n",
              "      <td>0.998657</td>\n",
              "      <td>0.006716</td>\n",
              "      <td>0.25</td>\n",
              "      <td>Cancer</td>\n",
              "    </tr>\n",
              "    <tr>\n",
              "      <th>4</th>\n",
              "      <td>5.063379</td>\n",
              "      <td>1.472309</td>\n",
              "      <td>0.366186</td>\n",
              "      <td>1.475020</td>\n",
              "      <td>2.729534</td>\n",
              "      <td>0.631590</td>\n",
              "      <td>0.305147</td>\n",
              "      <td>0.529344</td>\n",
              "      <td>0.093115</td>\n",
              "      <td>0.529344</td>\n",
              "      <td>...</td>\n",
              "      <td>0.984281</td>\n",
              "      <td>-0.934547</td>\n",
              "      <td>0.043114</td>\n",
              "      <td>0.996358</td>\n",
              "      <td>0.007285</td>\n",
              "      <td>0.007285</td>\n",
              "      <td>0.998543</td>\n",
              "      <td>0.007285</td>\n",
              "      <td>0.25</td>\n",
              "      <td>Cancer</td>\n",
              "    </tr>\n",
              "    <tr>\n",
              "      <th>...</th>\n",
              "      <td>...</td>\n",
              "      <td>...</td>\n",
              "      <td>...</td>\n",
              "      <td>...</td>\n",
              "      <td>...</td>\n",
              "      <td>...</td>\n",
              "      <td>...</td>\n",
              "      <td>...</td>\n",
              "      <td>...</td>\n",
              "      <td>...</td>\n",
              "      <td>...</td>\n",
              "      <td>...</td>\n",
              "      <td>...</td>\n",
              "      <td>...</td>\n",
              "      <td>...</td>\n",
              "      <td>...</td>\n",
              "      <td>...</td>\n",
              "      <td>...</td>\n",
              "      <td>...</td>\n",
              "      <td>...</td>\n",
              "      <td>...</td>\n",
              "    </tr>\n",
              "    <tr>\n",
              "      <th>995</th>\n",
              "      <td>4.231594</td>\n",
              "      <td>2.092978</td>\n",
              "      <td>0.903530</td>\n",
              "      <td>1.124757</td>\n",
              "      <td>2.449805</td>\n",
              "      <td>0.771673</td>\n",
              "      <td>0.362655</td>\n",
              "      <td>0.644555</td>\n",
              "      <td>0.131518</td>\n",
              "      <td>0.644555</td>\n",
              "      <td>...</td>\n",
              "      <td>0.980355</td>\n",
              "      <td>-0.925497</td>\n",
              "      <td>0.040958</td>\n",
              "      <td>0.996576</td>\n",
              "      <td>0.006849</td>\n",
              "      <td>0.006849</td>\n",
              "      <td>0.998630</td>\n",
              "      <td>0.006849</td>\n",
              "      <td>0.25</td>\n",
              "      <td>Normal</td>\n",
              "    </tr>\n",
              "    <tr>\n",
              "      <th>996</th>\n",
              "      <td>4.268530</td>\n",
              "      <td>2.079846</td>\n",
              "      <td>0.891024</td>\n",
              "      <td>1.134379</td>\n",
              "      <td>2.457503</td>\n",
              "      <td>0.768344</td>\n",
              "      <td>0.361190</td>\n",
              "      <td>0.641376</td>\n",
              "      <td>0.130459</td>\n",
              "      <td>0.641376</td>\n",
              "      <td>...</td>\n",
              "      <td>0.983536</td>\n",
              "      <td>-0.935508</td>\n",
              "      <td>0.035701</td>\n",
              "      <td>0.997095</td>\n",
              "      <td>0.005809</td>\n",
              "      <td>0.005809</td>\n",
              "      <td>0.998838</td>\n",
              "      <td>0.005809</td>\n",
              "      <td>0.25</td>\n",
              "      <td>Cancer</td>\n",
              "    </tr>\n",
              "    <tr>\n",
              "      <th>997</th>\n",
              "      <td>3.916130</td>\n",
              "      <td>2.249905</td>\n",
              "      <td>1.060559</td>\n",
              "      <td>0.939573</td>\n",
              "      <td>2.301659</td>\n",
              "      <td>0.846119</td>\n",
              "      <td>0.403226</td>\n",
              "      <td>0.737774</td>\n",
              "      <td>0.162591</td>\n",
              "      <td>0.737774</td>\n",
              "      <td>...</td>\n",
              "      <td>0.976171</td>\n",
              "      <td>-0.917129</td>\n",
              "      <td>0.037208</td>\n",
              "      <td>0.996948</td>\n",
              "      <td>0.006104</td>\n",
              "      <td>0.006104</td>\n",
              "      <td>0.998779</td>\n",
              "      <td>0.006104</td>\n",
              "      <td>0.25</td>\n",
              "      <td>Cancer</td>\n",
              "    </tr>\n",
              "    <tr>\n",
              "      <th>998</th>\n",
              "      <td>5.063934</td>\n",
              "      <td>1.492983</td>\n",
              "      <td>0.382852</td>\n",
              "      <td>1.463716</td>\n",
              "      <td>2.720973</td>\n",
              "      <td>0.636687</td>\n",
              "      <td>0.307304</td>\n",
              "      <td>0.533306</td>\n",
              "      <td>0.094435</td>\n",
              "      <td>0.533306</td>\n",
              "      <td>...</td>\n",
              "      <td>0.987738</td>\n",
              "      <td>-0.946968</td>\n",
              "      <td>0.034897</td>\n",
              "      <td>0.997173</td>\n",
              "      <td>0.005654</td>\n",
              "      <td>0.005654</td>\n",
              "      <td>0.998869</td>\n",
              "      <td>0.005654</td>\n",
              "      <td>0.25</td>\n",
              "      <td>Normal</td>\n",
              "    </tr>\n",
              "    <tr>\n",
              "      <th>999</th>\n",
              "      <td>4.838849</td>\n",
              "      <td>1.672958</td>\n",
              "      <td>0.530755</td>\n",
              "      <td>1.379390</td>\n",
              "      <td>2.653128</td>\n",
              "      <td>0.670651</td>\n",
              "      <td>0.318654</td>\n",
              "      <td>0.554622</td>\n",
              "      <td>0.101541</td>\n",
              "      <td>0.554622</td>\n",
              "      <td>...</td>\n",
              "      <td>0.987337</td>\n",
              "      <td>-0.945826</td>\n",
              "      <td>0.034464</td>\n",
              "      <td>0.997215</td>\n",
              "      <td>0.005570</td>\n",
              "      <td>0.005570</td>\n",
              "      <td>0.998886</td>\n",
              "      <td>0.005570</td>\n",
              "      <td>0.25</td>\n",
              "      <td>Normal</td>\n",
              "    </tr>\n",
              "  </tbody>\n",
              "</table>\n",
              "<p>1000 rows × 23 columns</p>\n",
              "</div>\n",
              "      <button class=\"colab-df-convert\" onclick=\"convertToInteractive('df-59f7a6d3-2a67-4f93-969c-51c2f55cb1cb')\"\n",
              "              title=\"Convert this dataframe to an interactive table.\"\n",
              "              style=\"display:none;\">\n",
              "        \n",
              "  <svg xmlns=\"http://www.w3.org/2000/svg\" height=\"24px\"viewBox=\"0 0 24 24\"\n",
              "       width=\"24px\">\n",
              "    <path d=\"M0 0h24v24H0V0z\" fill=\"none\"/>\n",
              "    <path d=\"M18.56 5.44l.94 2.06.94-2.06 2.06-.94-2.06-.94-.94-2.06-.94 2.06-2.06.94zm-11 1L8.5 8.5l.94-2.06 2.06-.94-2.06-.94L8.5 2.5l-.94 2.06-2.06.94zm10 10l.94 2.06.94-2.06 2.06-.94-2.06-.94-.94-2.06-.94 2.06-2.06.94z\"/><path d=\"M17.41 7.96l-1.37-1.37c-.4-.4-.92-.59-1.43-.59-.52 0-1.04.2-1.43.59L10.3 9.45l-7.72 7.72c-.78.78-.78 2.05 0 2.83L4 21.41c.39.39.9.59 1.41.59.51 0 1.02-.2 1.41-.59l7.78-7.78 2.81-2.81c.8-.78.8-2.07 0-2.86zM5.41 20L4 18.59l7.72-7.72 1.47 1.35L5.41 20z\"/>\n",
              "  </svg>\n",
              "      </button>\n",
              "      \n",
              "  <style>\n",
              "    .colab-df-container {\n",
              "      display:flex;\n",
              "      flex-wrap:wrap;\n",
              "      gap: 12px;\n",
              "    }\n",
              "\n",
              "    .colab-df-convert {\n",
              "      background-color: #E8F0FE;\n",
              "      border: none;\n",
              "      border-radius: 50%;\n",
              "      cursor: pointer;\n",
              "      display: none;\n",
              "      fill: #1967D2;\n",
              "      height: 32px;\n",
              "      padding: 0 0 0 0;\n",
              "      width: 32px;\n",
              "    }\n",
              "\n",
              "    .colab-df-convert:hover {\n",
              "      background-color: #E2EBFA;\n",
              "      box-shadow: 0px 1px 2px rgba(60, 64, 67, 0.3), 0px 1px 3px 1px rgba(60, 64, 67, 0.15);\n",
              "      fill: #174EA6;\n",
              "    }\n",
              "\n",
              "    [theme=dark] .colab-df-convert {\n",
              "      background-color: #3B4455;\n",
              "      fill: #D2E3FC;\n",
              "    }\n",
              "\n",
              "    [theme=dark] .colab-df-convert:hover {\n",
              "      background-color: #434B5C;\n",
              "      box-shadow: 0px 1px 3px 1px rgba(0, 0, 0, 0.15);\n",
              "      filter: drop-shadow(0px 1px 2px rgba(0, 0, 0, 0.3));\n",
              "      fill: #FFFFFF;\n",
              "    }\n",
              "  </style>\n",
              "\n",
              "      <script>\n",
              "        const buttonEl =\n",
              "          document.querySelector('#df-59f7a6d3-2a67-4f93-969c-51c2f55cb1cb button.colab-df-convert');\n",
              "        buttonEl.style.display =\n",
              "          google.colab.kernel.accessAllowed ? 'block' : 'none';\n",
              "\n",
              "        async function convertToInteractive(key) {\n",
              "          const element = document.querySelector('#df-59f7a6d3-2a67-4f93-969c-51c2f55cb1cb');\n",
              "          const dataTable =\n",
              "            await google.colab.kernel.invokeFunction('convertToInteractive',\n",
              "                                                     [key], {});\n",
              "          if (!dataTable) return;\n",
              "\n",
              "          const docLinkHtml = 'Like what you see? Visit the ' +\n",
              "            '<a target=\"_blank\" href=https://colab.research.google.com/notebooks/data_table.ipynb>data table notebook</a>'\n",
              "            + ' to learn more about interactive tables.';\n",
              "          element.innerHTML = '';\n",
              "          dataTable['output_type'] = 'display_data';\n",
              "          await google.colab.output.renderOutput(dataTable, element);\n",
              "          const docLink = document.createElement('div');\n",
              "          docLink.innerHTML = docLinkHtml;\n",
              "          element.appendChild(docLink);\n",
              "        }\n",
              "      </script>\n",
              "    </div>\n",
              "  </div>\n",
              "  "
            ]
          },
          "metadata": {},
          "execution_count": 28
        }
      ],
      "source": [
        "# Read images dataset from feature ectraction result\n",
        "dataset = pd.read_csv('Feature-Extraction.csv')\n",
        "dataset"
      ]
    },
    {
      "cell_type": "code",
      "source": [
        "# Read column of images dataset\n",
        "Feature = dataset.columns\n",
        "print(Feature)"
      ],
      "metadata": {
        "colab": {
          "base_uri": "https://localhost:8080/"
        },
        "id": "QIIkgPckJaSd",
        "outputId": "1eabecbb-85ed-4aa1-e244-83fe9b2f118a"
      },
      "execution_count": null,
      "outputs": [
        {
          "output_type": "stream",
          "name": "stdout",
          "text": [
            "Index(['Sum Variance', 'Kurtosis', 'Skewness', 'Sum of Squares', 'Sum Average',\n",
            "       'Maximal Correlation Coefficient', 'Standar Deviation', 'Energy',\n",
            "       'Variance', 'Angular Second Moment', 'Sum Entropy', 'Entropy',\n",
            "       'Information Measures of Correlation II', 'Correlation',\n",
            "       'Informations Measures of Correlation I', 'Difference Entropy',\n",
            "       'Homogeneity', 'Dissimilarity', 'Contrast', 'Inverse Difference Moment',\n",
            "       'Difference Variance', 'Mean', 'Klasifikasi'],\n",
            "      dtype='object')\n"
          ]
        }
      ]
    },
    {
      "cell_type": "markdown",
      "source": [
        "# Splitting of Images Dataset"
      ],
      "metadata": {
        "id": "gvQPsg1sKcvO"
      }
    },
    {
      "cell_type": "code",
      "source": [
        "# Import Library split data\n",
        "from sklearn.model_selection import train_test_split"
      ],
      "metadata": {
        "id": "WTlp65_aKpyH"
      },
      "execution_count": null,
      "outputs": []
    },
    {
      "cell_type": "code",
      "source": [
        "# Read statistic value from 22 features\n",
        "X = dataset.iloc[:,0:22].values\n",
        "Y = dataset.iloc[:,-1].values"
      ],
      "metadata": {
        "id": "Vm4-5hPsKBmZ"
      },
      "execution_count": null,
      "outputs": []
    },
    {
      "cell_type": "code",
      "source": [
        "# Split train and test data (90:10)\n",
        "X_train, X_test, Y_train, Y_test = train_test_split(X, Y, test_size=0.1, random_state=3)"
      ],
      "metadata": {
        "colab": {
          "base_uri": "https://localhost:8080/"
        },
        "id": "V9T8baY3Kimv",
        "outputId": "0c7250b1-c83d-4c03-bafe-355560497979"
      },
      "execution_count": null,
      "outputs": [
        {
          "output_type": "stream",
          "name": "stdout",
          "text": [
            "Train set: (900, 22) (900,)\n",
            "Test set: (100, 22) (100,)\n"
          ]
        }
      ]
    },
    {
      "cell_type": "markdown",
      "source": [
        "# Normalization of Dataset Images"
      ],
      "metadata": {
        "id": "7JzjSI4pJpS5"
      }
    },
    {
      "cell_type": "code",
      "source": [
        "# Get the feature scaler of images dataset\n",
        "scaler = StandardScaler()\n",
        "Xtrain_std = scaler.fit_transform(X_train)\n",
        "Xtest_std = scaler.fit_transform(X_test)"
      ],
      "metadata": {
        "colab": {
          "base_uri": "https://localhost:8080/"
        },
        "id": "1BVDD96OJ7o-",
        "outputId": "71149427-e0c0-4dbc-d496-dc84ea60ddc3"
      },
      "execution_count": null,
      "outputs": [
        {
          "output_type": "stream",
          "name": "stdout",
          "text": [
            "[[-0.38830387  0.47066107  0.44296595 ...  0.08721689 -0.08721689\n",
            "   0.        ]\n",
            " [ 0.0911562   0.02320056 -0.02865493 ...  2.06480425 -2.06480425\n",
            "   0.        ]\n",
            " [-0.57086853  0.65589277  0.64738221 ...  0.7550409  -0.7550409\n",
            "   0.        ]\n",
            " ...\n",
            " [ 1.96543951 -2.03945151 -1.97551318 ...  0.06909764 -0.06909764\n",
            "   0.        ]\n",
            " [-0.94423286  0.92458163  0.95767786 ... -0.30105287  0.30105287\n",
            "   0.        ]\n",
            " [-0.56398624  0.61243938  0.59883525 ... -0.83945362  0.83945362\n",
            "   0.        ]]\n",
            "[[ 1.24404514 -1.53364608 -1.51351823 ... -0.13936073  0.13936073\n",
            "   0.        ]\n",
            " [-0.89191013  0.93910831  0.96557906 ...  0.30405978 -0.30405978\n",
            "   0.        ]\n",
            " [ 1.47253526 -1.78737611 -1.74113105 ... -0.70243439  0.70243439\n",
            "   0.        ]\n",
            " ...\n",
            " [-0.21830032  0.33086343  0.28970223 ...  0.90936396 -0.90936396\n",
            "   0.        ]\n",
            " [-0.35283223  0.39963861  0.36268938 ... -1.6010061   1.6010061\n",
            "   0.        ]\n",
            " [ 1.23220523 -1.52159309 -1.50262443 ... -0.16516827  0.16516827\n",
            "   0.        ]]\n"
          ]
        }
      ]
    },
    {
      "cell_type": "markdown",
      "source": [
        "# **k-Nearest Neighbor (k-NN) Classification**"
      ],
      "metadata": {
        "id": "NkLhtDeMLW83"
      }
    },
    {
      "cell_type": "code",
      "source": [
        "# Import Library for running k-NN classifier\n",
        "from sklearn import metrics\n",
        "from sklearn.neighbors import KNeighborsClassifier\n",
        "\n",
        "# Import Library for running graphic function\n",
        "import matplotlib.pyplot as plt"
      ],
      "metadata": {
        "id": "XuPsth1bM8mW"
      },
      "execution_count": null,
      "outputs": []
    },
    {
      "cell_type": "markdown",
      "source": [
        "Dataset Training"
      ],
      "metadata": {
        "id": "InMxHuPrLsq4"
      }
    },
    {
      "cell_type": "code",
      "source": [
        "Ks = 11\n",
        "Accuracy = []\n",
        "\n",
        "# Loops from (k = 1) - (k = 10)\n",
        "for k in range(1, Ks):\n",
        "  knn = KNeighborsClassifier(n_neighbors = k)\n",
        "\n",
        "  knn.fit(Xtrain_std, Y_train)\n",
        "\n",
        "  training_predict = knn.predict(Xtrain_std)\n",
        "\n",
        "  Accuracy.append(metrics.accuracy_score(Y_train, training_predict))"
      ],
      "metadata": {
        "colab": {
          "base_uri": "https://localhost:8080/"
        },
        "id": "z7yqs-Q6O7Uh",
        "outputId": "c42e2aa8-25c9-4052-a094-75a987f33312"
      },
      "execution_count": null,
      "outputs": [
        {
          "output_type": "stream",
          "name": "stdout",
          "text": [
            "k =  1\n",
            "Accuracy =  1.0\n",
            "k =  2\n",
            "Accuracy =  0.8333333333333334\n",
            "k =  3\n",
            "Accuracy =  0.8166666666666667\n",
            "k =  4\n",
            "Accuracy =  0.7522222222222222\n",
            "k =  5\n",
            "Accuracy =  0.7422222222222222\n",
            "k =  6\n",
            "Accuracy =  0.7188888888888889\n",
            "k =  7\n",
            "Accuracy =  0.7166666666666667\n",
            "k =  8\n",
            "Accuracy =  0.6877777777777778\n",
            "k =  9\n",
            "Accuracy =  0.6866666666666666\n",
            "k =  10\n",
            "Accuracy =  0.6711111111111111\n"
          ]
        }
      ]
    },
    {
      "cell_type": "code",
      "source": [
        "# Show the graphic of k-NN classfication accuracy from training dataset\n",
        "plt.plot(range(1,Ks), Accuracy, 'r')\n",
        "plt.legend('Accuracy')\n",
        "plt.ylabel('Score')\n",
        "plt.xlabel('Number of Neighbor (k)')\n",
        "plt.tight_layout()\n",
        "plt.show"
      ],
      "metadata": {
        "colab": {
          "base_uri": "https://localhost:8080/",
          "height": 504
        },
        "id": "1x0E_V3KRN_8",
        "outputId": "97c1c935-860e-41ba-93e8-a969755b673e"
      },
      "execution_count": null,
      "outputs": [
        {
          "output_type": "execute_result",
          "data": {
            "text/plain": [
              "<function matplotlib.pyplot.show(close=None, block=None)>"
            ]
          },
          "metadata": {},
          "execution_count": 37
        },
        {
          "output_type": "display_data",
          "data": {
            "text/plain": [
              "<Figure size 640x480 with 1 Axes>"
            ],
            "image/png": "[encoded data removed]"
          },
          "metadata": {}
        }
      ]
    },
    {
      "cell_type": "markdown",
      "source": [
        "Testing Dataset"
      ],
      "metadata": {
        "id": "3_mOR4dDTl2u"
      }
    },
    {
      "cell_type": "code",
      "source": [
        "Ks = 11\n",
        "Accuracy = []\n",
        "\n",
        "# Loops from (k = 1) - (k = 10)\n",
        "for k in range(1, Ks):\n",
        "  knn = KNeighborsClassifier(n_neighbors = k)\n",
        "\n",
        "  knn.fit(Xtest_std, Y_test)\n",
        "\n",
        "  testing_predict = knn.predict(Xtest_std)\n",
        "\n",
        "  Accuracy.append(metrics.accuracy_score(Y_test, testing_predict))"
      ],
      "metadata": {
        "colab": {
          "base_uri": "https://localhost:8080/"
        },
        "id": "JHn7jCziTk9c",
        "outputId": "7450c3e8-bee9-49ea-d519-1f9302ec1ad5"
      },
      "execution_count": null,
      "outputs": [
        {
          "output_type": "stream",
          "name": "stdout",
          "text": [
            "k =  1\n",
            "Accuracy =  1.0\n",
            "k =  2\n",
            "Accuracy =  0.74\n",
            "k =  3\n",
            "Accuracy =  0.71\n",
            "k =  4\n",
            "Accuracy =  0.67\n",
            "k =  5\n",
            "Accuracy =  0.62\n",
            "k =  6\n",
            "Accuracy =  0.61\n",
            "k =  7\n",
            "Accuracy =  0.66\n",
            "k =  8\n",
            "Accuracy =  0.63\n",
            "k =  9\n",
            "Accuracy =  0.64\n",
            "k =  10\n",
            "Accuracy =  0.6\n"
          ]
        }
      ]
    },
    {
      "cell_type": "code",
      "source": [
        "# Show the graphic of k-NN classfication accuracy from testing dataset\n",
        "plt.plot(range(1,Ks), Accuracy, 'r')\n",
        "plt.legend('Accuracy')\n",
        "plt.ylabel('Score')\n",
        "plt.xlabel('Number of Neighbor (k)')\n",
        "plt.tight_layout()\n",
        "plt.show"
      ],
      "metadata": {
        "colab": {
          "base_uri": "https://localhost:8080/",
          "height": 503
        },
        "id": "iHJmq_ArT4eD",
        "outputId": "7a9fa134-8bea-4d87-faac-5da740a8f1a4"
      },
      "execution_count": null,
      "outputs": [
        {
          "output_type": "execute_result",
          "data": {
            "text/plain": [
              "<function matplotlib.pyplot.show(close=None, block=None)>"
            ]
          },
          "metadata": {},
          "execution_count": 39
        },
        {
          "output_type": "display_data",
          "data": {
            "text/plain": [
              "<Figure size 640x480 with 1 Axes>"
            ],
            "image/png": "[encoded data removed]"
          },
          "metadata": {}
        }
      ]
    },
    {
      "cell_type": "markdown",
      "source": [
        "# Feature Selection"
      ],
      "metadata": {
        "id": "xyX69asxUHp2"
      }
    },
    {
      "cell_type": "markdown",
      "source": [
        "Step Forward Feature Selection (SFFS) Method"
      ],
      "metadata": {
        "id": "Sh2ii7fTNqv9"
      }
    },
    {
      "cell_type": "code",
      "source": [
        "# Install library mlxtend\n",
        "!pip install mlxtend\n",
        "import joblib\n",
        "import sys\n",
        "sys.modules['sklearn.externals.joblib'] = joblib"
      ],
      "metadata": {
        "colab": {
          "base_uri": "https://localhost:8080/"
        },
        "id": "MGQ8vuG66hGS",
        "outputId": "d17179c9-88ab-4bad-9681-f40781e8f496"
      },
      "execution_count": null,
      "outputs": [
        {
          "output_type": "stream",
          "name": "stdout",
          "text": [
            "Looking in indexes: https://pypi.org/simple, https://us-python.pkg.dev/colab-wheels/public/simple/\n",
            "Requirement already satisfied: mlxtend in /usr/local/lib/python3.10/dist-packages (0.14.0)\n",
            "Requirement already satisfied: scipy>=0.17 in /usr/local/lib/python3.10/dist-packages (from mlxtend) (1.10.1)\n",
            "Requirement already satisfied: numpy>=1.10.4 in /usr/local/lib/python3.10/dist-packages (from mlxtend) (1.22.4)\n",
            "Requirement already satisfied: pandas>=0.17.1 in /usr/local/lib/python3.10/dist-packages (from mlxtend) (1.5.3)\n",
            "Requirement already satisfied: scikit-learn>=0.18 in /usr/local/lib/python3.10/dist-packages (from mlxtend) (1.2.2)\n",
            "Requirement already satisfied: matplotlib>=1.5.1 in /usr/local/lib/python3.10/dist-packages (from mlxtend) (3.7.1)\n",
            "Requirement already satisfied: setuptools in /usr/local/lib/python3.10/dist-packages (from mlxtend) (67.7.2)\n",
            "Requirement already satisfied: contourpy>=1.0.1 in /usr/local/lib/python3.10/dist-packages (from matplotlib>=1.5.1->mlxtend) (1.0.7)\n",
            "Requirement already satisfied: cycler>=0.10 in /usr/local/lib/python3.10/dist-packages (from matplotlib>=1.5.1->mlxtend) (0.11.0)\n",
            "Requirement already satisfied: fonttools>=4.22.0 in /usr/local/lib/python3.10/dist-packages (from matplotlib>=1.5.1->mlxtend) (4.39.3)\n",
            "Requirement already satisfied: kiwisolver>=1.0.1 in /usr/local/lib/python3.10/dist-packages (from matplotlib>=1.5.1->mlxtend) (1.4.4)\n",
            "Requirement already satisfied: packaging>=20.0 in /usr/local/lib/python3.10/dist-packages (from matplotlib>=1.5.1->mlxtend) (23.1)\n",
            "Requirement already satisfied: pillow>=6.2.0 in /usr/local/lib/python3.10/dist-packages (from matplotlib>=1.5.1->mlxtend) (8.4.0)\n",
            "Requirement already satisfied: pyparsing>=2.3.1 in /usr/local/lib/python3.10/dist-packages (from matplotlib>=1.5.1->mlxtend) (3.0.9)\n",
            "Requirement already satisfied: python-dateutil>=2.7 in /usr/local/lib/python3.10/dist-packages (from matplotlib>=1.5.1->mlxtend) (2.8.2)\n",
            "Requirement already satisfied: pytz>=2020.1 in /usr/local/lib/python3.10/dist-packages (from pandas>=0.17.1->mlxtend) (2022.7.1)\n",
            "Requirement already satisfied: joblib>=1.1.1 in /usr/local/lib/python3.10/dist-packages (from scikit-learn>=0.18->mlxtend) (1.2.0)\n",
            "Requirement already satisfied: threadpoolctl>=2.0.0 in /usr/local/lib/python3.10/dist-packages (from scikit-learn>=0.18->mlxtend) (3.1.0)\n",
            "Requirement already satisfied: six>=1.5 in /usr/local/lib/python3.10/dist-packages (from python-dateutil>=2.7->matplotlib>=1.5.1->mlxtend) (1.16.0)\n"
          ]
        }
      ]
    },
    {
      "cell_type": "code",
      "source": [
        "# Import Library for Feature Selection\n",
        "from mlxtend.feature_selection import SequentialFeatureSelector as SFS\n",
        "from sklearn.metrics import accuracy_score as acc"
      ],
      "metadata": {
        "id": "66xGzAGm68I2"
      },
      "execution_count": null,
      "outputs": []
    },
    {
      "cell_type": "code",
      "source": [
        "# Create Step Forward Feature Selection (SFFS) Function\n",
        "sfs_feature = SFS(knn,\n",
        "                  k_features=16,\n",
        "                  forward=True,\n",
        "                  floating=False,\n",
        "                  verbose=2,\n",
        "                  scoring='accuracy',\n",
        "                  cv=0)\n",
        "\n",
        "# Performance SFFS\n",
        "sffs = sfs_feature.fit(X, Y)"
      ],
      "metadata": {
        "colab": {
          "base_uri": "https://localhost:8080/"
        },
        "id": "gqnk5NBxVoOh",
        "outputId": "a2befa24-6421-4750-ed11-71db74eb7500"
      },
      "execution_count": null,
      "outputs": [
        {
          "output_type": "stream",
          "name": "stderr",
          "text": [
            "[Parallel(n_jobs=1)]: Using backend SequentialBackend with 1 concurrent workers.\n",
            "[Parallel(n_jobs=1)]: Done   1 out of   1 | elapsed:    0.0s remaining:    0.0s\n",
            "[Parallel(n_jobs=1)]: Done  22 out of  22 | elapsed:    0.7s finished\n",
            "\n",
            "[2023-06-18 09:02:34] Features: 1/16 -- score: 0.717[Parallel(n_jobs=1)]: Using backend SequentialBackend with 1 concurrent workers.\n",
            "[Parallel(n_jobs=1)]: Done   1 out of   1 | elapsed:    0.0s remaining:    0.0s\n",
            "[Parallel(n_jobs=1)]: Done  21 out of  21 | elapsed:    1.2s finished\n",
            "\n",
            "[2023-06-18 09:02:35] Features: 2/16 -- score: 0.755[Parallel(n_jobs=1)]: Using backend SequentialBackend with 1 concurrent workers.\n",
            "[Parallel(n_jobs=1)]: Done   1 out of   1 | elapsed:    0.1s remaining:    0.0s\n",
            "[Parallel(n_jobs=1)]: Done  20 out of  20 | elapsed:    1.3s finished\n",
            "\n",
            "[2023-06-18 09:02:36] Features: 3/16 -- score: 0.767[Parallel(n_jobs=1)]: Using backend SequentialBackend with 1 concurrent workers.\n",
            "[Parallel(n_jobs=1)]: Done   1 out of   1 | elapsed:    0.1s remaining:    0.0s\n",
            "[Parallel(n_jobs=1)]: Done  19 out of  19 | elapsed:    1.2s finished\n",
            "\n",
            "[2023-06-18 09:02:38] Features: 4/16 -- score: 0.767[Parallel(n_jobs=1)]: Using backend SequentialBackend with 1 concurrent workers.\n",
            "[Parallel(n_jobs=1)]: Done   1 out of   1 | elapsed:    0.0s remaining:    0.0s\n",
            "[Parallel(n_jobs=1)]: Done  18 out of  18 | elapsed:    1.1s finished\n",
            "\n",
            "[2023-06-18 09:02:39] Features: 5/16 -- score: 0.767[Parallel(n_jobs=1)]: Using backend SequentialBackend with 1 concurrent workers.\n",
            "[Parallel(n_jobs=1)]: Done   1 out of   1 | elapsed:    0.1s remaining:    0.0s\n",
            "[Parallel(n_jobs=1)]: Done  17 out of  17 | elapsed:    1.2s finished\n",
            "\n",
            "[2023-06-18 09:02:40] Features: 6/16 -- score: 0.767[Parallel(n_jobs=1)]: Using backend SequentialBackend with 1 concurrent workers.\n",
            "[Parallel(n_jobs=1)]: Done   1 out of   1 | elapsed:    0.1s remaining:    0.0s\n",
            "[Parallel(n_jobs=1)]: Done  16 out of  16 | elapsed:    1.6s finished\n",
            "\n",
            "[2023-06-18 09:02:42] Features: 7/16 -- score: 0.767[Parallel(n_jobs=1)]: Using backend SequentialBackend with 1 concurrent workers.\n",
            "[Parallel(n_jobs=1)]: Done   1 out of   1 | elapsed:    0.1s remaining:    0.0s\n",
            "[Parallel(n_jobs=1)]: Done  15 out of  15 | elapsed:    1.1s finished\n",
            "\n",
            "[2023-06-18 09:02:43] Features: 8/16 -- score: 0.767[Parallel(n_jobs=1)]: Using backend SequentialBackend with 1 concurrent workers.\n",
            "[Parallel(n_jobs=1)]: Done   1 out of   1 | elapsed:    0.1s remaining:    0.0s\n",
            "[Parallel(n_jobs=1)]: Done  14 out of  14 | elapsed:    1.4s finished\n",
            "\n",
            "[2023-06-18 09:02:44] Features: 9/16 -- score: 0.767[Parallel(n_jobs=1)]: Using backend SequentialBackend with 1 concurrent workers.\n",
            "[Parallel(n_jobs=1)]: Done   1 out of   1 | elapsed:    0.2s remaining:    0.0s\n",
            "[Parallel(n_jobs=1)]: Done  13 out of  13 | elapsed:    2.0s finished\n",
            "\n",
            "[2023-06-18 09:02:46] Features: 10/16 -- score: 0.767[Parallel(n_jobs=1)]: Using backend SequentialBackend with 1 concurrent workers.\n",
            "[Parallel(n_jobs=1)]: Done   1 out of   1 | elapsed:    0.1s remaining:    0.0s\n",
            "[Parallel(n_jobs=1)]: Done  12 out of  12 | elapsed:    0.9s finished\n",
            "\n",
            "[2023-06-18 09:02:47] Features: 11/16 -- score: 0.767[Parallel(n_jobs=1)]: Using backend SequentialBackend with 1 concurrent workers.\n",
            "[Parallel(n_jobs=1)]: Done   1 out of   1 | elapsed:    0.1s remaining:    0.0s\n",
            "[Parallel(n_jobs=1)]: Done  11 out of  11 | elapsed:    0.9s finished\n",
            "\n",
            "[2023-06-18 09:02:48] Features: 12/16 -- score: 0.767[Parallel(n_jobs=1)]: Using backend SequentialBackend with 1 concurrent workers.\n",
            "[Parallel(n_jobs=1)]: Done   1 out of   1 | elapsed:    0.1s remaining:    0.0s\n",
            "[Parallel(n_jobs=1)]: Done  10 out of  10 | elapsed:    0.9s finished\n",
            "\n",
            "[2023-06-18 09:02:49] Features: 13/16 -- score: 0.767[Parallel(n_jobs=1)]: Using backend SequentialBackend with 1 concurrent workers.\n",
            "[Parallel(n_jobs=1)]: Done   1 out of   1 | elapsed:    0.2s remaining:    0.0s\n",
            "[Parallel(n_jobs=1)]: Done   9 out of   9 | elapsed:    0.8s finished\n",
            "\n",
            "[2023-06-18 09:02:50] Features: 14/16 -- score: 0.766[Parallel(n_jobs=1)]: Using backend SequentialBackend with 1 concurrent workers.\n",
            "[Parallel(n_jobs=1)]: Done   1 out of   1 | elapsed:    0.1s remaining:    0.0s\n",
            "[Parallel(n_jobs=1)]: Done   8 out of   8 | elapsed:    0.8s finished\n",
            "\n",
            "[2023-06-18 09:02:50] Features: 15/16 -- score: 0.771[Parallel(n_jobs=1)]: Using backend SequentialBackend with 1 concurrent workers.\n",
            "[Parallel(n_jobs=1)]: Done   1 out of   1 | elapsed:    0.3s remaining:    0.0s\n",
            "[Parallel(n_jobs=1)]: Done   7 out of   7 | elapsed:    1.3s finished\n",
            "\n",
            "[2023-06-18 09:02:52] Features: 16/16 -- score: 0.774"
          ]
        }
      ]
    },
    {
      "cell_type": "code",
      "source": [
        "# Iteration of feature subset\n",
        "sffs.k_feature_idx_\n",
        "sffs.subsets_"
      ],
      "metadata": {
        "colab": {
          "base_uri": "https://localhost:8080/"
        },
        "id": "z9NbzUfBu6bA",
        "outputId": "5502b7e1-3974-497d-b7b7-753e6b561e25"
      },
      "execution_count": null,
      "outputs": [
        {
          "output_type": "execute_result",
          "data": {
            "text/plain": [
              "{1: {'feature_idx': (0,),\n",
              "  'cv_scores': array([0.717]),\n",
              "  'avg_score': 0.717,\n",
              "  'feature_names': ('0',)},\n",
              " 2: {'feature_idx': (0, 1),\n",
              "  'cv_scores': array([0.755]),\n",
              "  'avg_score': 0.755,\n",
              "  'feature_names': ('0', '1')},\n",
              " 3: {'feature_idx': (0, 1, 10),\n",
              "  'cv_scores': array([0.767]),\n",
              "  'avg_score': 0.767,\n",
              "  'feature_names': ('0', '1', '10')},\n",
              " 4: {'feature_idx': (0, 1, 5, 10),\n",
              "  'cv_scores': array([0.767]),\n",
              "  'avg_score': 0.767,\n",
              "  'feature_names': ('0', '1', '5', '10')},\n",
              " 5: {'feature_idx': (0, 1, 5, 6, 10),\n",
              "  'cv_scores': array([0.767]),\n",
              "  'avg_score': 0.767,\n",
              "  'feature_names': ('0', '1', '5', '6', '10')},\n",
              " 6: {'feature_idx': (0, 1, 5, 6, 8, 10),\n",
              "  'cv_scores': array([0.767]),\n",
              "  'avg_score': 0.767,\n",
              "  'feature_names': ('0', '1', '5', '6', '8', '10')},\n",
              " 7: {'feature_idx': (0, 1, 5, 6, 8, 10, 12),\n",
              "  'cv_scores': array([0.767]),\n",
              "  'avg_score': 0.767,\n",
              "  'feature_names': ('0', '1', '5', '6', '8', '10', '12')},\n",
              " 8: {'feature_idx': (0, 1, 5, 6, 8, 10, 12, 16),\n",
              "  'cv_scores': array([0.767]),\n",
              "  'avg_score': 0.767,\n",
              "  'feature_names': ('0', '1', '5', '6', '8', '10', '12', '16')},\n",
              " 9: {'feature_idx': (0, 1, 5, 6, 8, 10, 12, 16, 17),\n",
              "  'cv_scores': array([0.767]),\n",
              "  'avg_score': 0.767,\n",
              "  'feature_names': ('0', '1', '5', '6', '8', '10', '12', '16', '17')},\n",
              " 10: {'feature_idx': (0, 1, 5, 6, 8, 10, 12, 16, 17, 18),\n",
              "  'cv_scores': array([0.767]),\n",
              "  'avg_score': 0.767,\n",
              "  'feature_names': ('0', '1', '5', '6', '8', '10', '12', '16', '17', '18')},\n",
              " 11: {'feature_idx': (0, 1, 5, 6, 8, 10, 12, 16, 17, 18, 19),\n",
              "  'cv_scores': array([0.767]),\n",
              "  'avg_score': 0.767,\n",
              "  'feature_names': ('0',\n",
              "   '1',\n",
              "   '5',\n",
              "   '6',\n",
              "   '8',\n",
              "   '10',\n",
              "   '12',\n",
              "   '16',\n",
              "   '17',\n",
              "   '18',\n",
              "   '19')},\n",
              " 12: {'feature_idx': (0, 1, 5, 6, 8, 10, 12, 16, 17, 18, 19, 20),\n",
              "  'cv_scores': array([0.767]),\n",
              "  'avg_score': 0.767,\n",
              "  'feature_names': ('0',\n",
              "   '1',\n",
              "   '5',\n",
              "   '6',\n",
              "   '8',\n",
              "   '10',\n",
              "   '12',\n",
              "   '16',\n",
              "   '17',\n",
              "   '18',\n",
              "   '19',\n",
              "   '20')},\n",
              " 13: {'feature_idx': (0, 1, 5, 6, 8, 10, 12, 16, 17, 18, 19, 20, 21),\n",
              "  'cv_scores': array([0.767]),\n",
              "  'avg_score': 0.767,\n",
              "  'feature_names': ('0',\n",
              "   '1',\n",
              "   '5',\n",
              "   '6',\n",
              "   '8',\n",
              "   '10',\n",
              "   '12',\n",
              "   '16',\n",
              "   '17',\n",
              "   '18',\n",
              "   '19',\n",
              "   '20',\n",
              "   '21')},\n",
              " 14: {'feature_idx': (0, 1, 5, 6, 8, 10, 12, 14, 16, 17, 18, 19, 20, 21),\n",
              "  'cv_scores': array([0.766]),\n",
              "  'avg_score': 0.766,\n",
              "  'feature_names': ('0',\n",
              "   '1',\n",
              "   '5',\n",
              "   '6',\n",
              "   '8',\n",
              "   '10',\n",
              "   '12',\n",
              "   '14',\n",
              "   '16',\n",
              "   '17',\n",
              "   '18',\n",
              "   '19',\n",
              "   '20',\n",
              "   '21')},\n",
              " 15: {'feature_idx': (0, 1, 5, 6, 8, 10, 12, 14, 15, 16, 17, 18, 19, 20, 21),\n",
              "  'cv_scores': array([0.771]),\n",
              "  'avg_score': 0.771,\n",
              "  'feature_names': ('0',\n",
              "   '1',\n",
              "   '5',\n",
              "   '6',\n",
              "   '8',\n",
              "   '10',\n",
              "   '12',\n",
              "   '14',\n",
              "   '15',\n",
              "   '16',\n",
              "   '17',\n",
              "   '18',\n",
              "   '19',\n",
              "   '20',\n",
              "   '21')},\n",
              " 16: {'feature_idx': (0,\n",
              "   1,\n",
              "   5,\n",
              "   6,\n",
              "   8,\n",
              "   10,\n",
              "   11,\n",
              "   12,\n",
              "   14,\n",
              "   15,\n",
              "   16,\n",
              "   17,\n",
              "   18,\n",
              "   19,\n",
              "   20,\n",
              "   21),\n",
              "  'cv_scores': array([0.774]),\n",
              "  'avg_score': 0.774,\n",
              "  'feature_names': ('0',\n",
              "   '1',\n",
              "   '5',\n",
              "   '6',\n",
              "   '8',\n",
              "   '10',\n",
              "   '11',\n",
              "   '12',\n",
              "   '14',\n",
              "   '15',\n",
              "   '16',\n",
              "   '17',\n",
              "   '18',\n",
              "   '19',\n",
              "   '20',\n",
              "   '21')}}"
            ]
          },
          "metadata": {},
          "execution_count": 44
        }
      ]
    },
    {
      "cell_type": "code",
      "source": [
        "# Read feature selection\n",
        "dataset.columns[0:][list(sffs.k_feature_idx_)]"
      ],
      "metadata": {
        "colab": {
          "base_uri": "https://localhost:8080/"
        },
        "id": "M1U4euxt8uPG",
        "outputId": "08d8ff3e-1b70-4963-a9e1-de52aff1da05"
      },
      "execution_count": null,
      "outputs": [
        {
          "output_type": "execute_result",
          "data": {
            "text/plain": [
              "Index(['Sum Variance', 'Kurtosis', 'Maximal Correlation Coefficient',\n",
              "       'Standar Deviation', 'Variance', 'Sum Entropy', 'Entropy',\n",
              "       'Information Measures of Correlation II',\n",
              "       'Informations Measures of Correlation I', 'Difference Entropy',\n",
              "       'Homogeneity', 'Dissimilarity', 'Contrast', 'Inverse Difference Moment',\n",
              "       'Difference Variance', 'Mean'],\n",
              "      dtype='object')"
            ]
          },
          "metadata": {},
          "execution_count": 45
        }
      ]
    },
    {
      "cell_type": "code",
      "source": [
        "# Determine neighbor's value of k = 3\n",
        "k = 3\n",
        "\n",
        "knn_k = KNeighborsClassifier(n_neighbors = k)\n",
        "# Calculate accuracy of training dataset\n",
        "X_train_selection = sffs.transform(X_train)\n",
        "knn_k.fit(X_train_selection, Y_train)\n",
        "\n",
        "# Calculate accuracy of testing dataset\n",
        "X_test_selection = sffs.transform(X_test)\n",
        "knn_k.fit(X_test_selection, Y_test)"
      ],
      "metadata": {
        "colab": {
          "base_uri": "https://localhost:8080/"
        },
        "id": "uv-KYYHNWDAV",
        "outputId": "8ce99ac2-d08a-4b7f-8e01-bba89b76b2c2"
      },
      "execution_count": null,
      "outputs": [
        {
          "output_type": "stream",
          "name": "stdout",
          "text": [
            "Training Accuracy:  93.22222222222221\n",
            "Testing Accuracy:  87.0\n"
          ]
        }
      ]
    },
    {
      "cell_type": "markdown",
      "source": [
        "# Confusion Matrix"
      ],
      "metadata": {
        "id": "6F5Ql7qb_lOa"
      }
    },
    {
      "cell_type": "code",
      "source": [
        "# Import Library for confusion matrix function\n",
        "from sklearn import metrics\n",
        "from sklearn.metrics import classification_report\n",
        "from sklearn.metrics import confusion_matrix"
      ],
      "metadata": {
        "id": "nI3Jd1KJmP42"
      },
      "execution_count": null,
      "outputs": []
    },
    {
      "cell_type": "markdown",
      "source": [
        "Training Dataset"
      ],
      "metadata": {
        "id": "9T6rLiLMvB9m"
      }
    },
    {
      "cell_type": "code",
      "source": [
        "# Classification report for training dataset\n",
        "k = 3\n",
        "knn_k = KNeighborsClassifier(n_neighbors = k)\n",
        "knn_k.fit(X_train_selection, Y_train)\n",
        "predicted_1 = knn_k.predict(X_train_selection)"
      ],
      "metadata": {
        "id": "QRlYI3hsRRwT",
        "colab": {
          "base_uri": "https://localhost:8080/"
        },
        "outputId": "0d4473ba-e5f3-49cf-fb8d-f67f2207434d"
      },
      "execution_count": null,
      "outputs": [
        {
          "output_type": "stream",
          "name": "stdout",
          "text": [
            "Classification Report\n",
            "              precision    recall  f1-score   support\n",
            "\n",
            "      Cancer       0.92      0.95      0.94       486\n",
            "      Normal       0.94      0.91      0.92       414\n",
            "\n",
            "    accuracy                           0.93       900\n",
            "   macro avg       0.93      0.93      0.93       900\n",
            "weighted avg       0.93      0.93      0.93       900\n",
            "\n"
          ]
        }
      ]
    },
    {
      "cell_type": "code",
      "source": [
        "# Calculate confusion matrix for training dataset\n",
        "confusion_matrix = metrics.confusion_matrix(Y_train, predicted_1)\n",
        "\n",
        "cm_display = metrics.ConfusionMatrixDisplay(confusion_matrix = confusion_matrix, display_labels = [True, False])\n",
        "\n",
        "cm_display.plot()"
      ],
      "metadata": {
        "colab": {
          "base_uri": "https://localhost:8080/",
          "height": 449
        },
        "id": "ad6QH6QoGnfL",
        "outputId": "7208f240-d22e-4f72-8d9c-2668f9df2f5e"
      },
      "execution_count": null,
      "outputs": [
        {
          "output_type": "display_data",
          "data": {
            "text/plain": [
              "<Figure size 640x480 with 2 Axes>"
            ],
            "image/png": "[encoded data removed]"
          },
          "metadata": {}
        }
      ]
    },
    {
      "cell_type": "code",
      "source": [
        "Accuracy = metrics.accuracy_score(Y_train, predicted_1)"
      ],
      "metadata": {
        "colab": {
          "base_uri": "https://localhost:8080/"
        },
        "id": "XomY0KEoHOjj",
        "outputId": "ac7d932b-3cba-4b0c-d5cb-c74c598e1e73"
      },
      "execution_count": null,
      "outputs": [
        {
          "output_type": "stream",
          "name": "stdout",
          "text": [
            "0.9322222222222222\n"
          ]
        }
      ]
    },
    {
      "cell_type": "markdown",
      "source": [
        "Testing Dataset"
      ],
      "metadata": {
        "id": "RF7tXRscvVJQ"
      }
    },
    {
      "cell_type": "code",
      "source": [
        "# Classification report for testing dataset\n",
        "k = 3\n",
        "knn_k = KNeighborsClassifier(n_neighbors = k)\n",
        "knn_k.fit(X_test_selection, Y_test)\n",
        "predicted_2 = knn_k.predict(X_test_selection)"
      ],
      "metadata": {
        "id": "cVREGu8_qjBU",
        "colab": {
          "base_uri": "https://localhost:8080/"
        },
        "outputId": "f674fbf4-e691-486f-987d-afb5ba96008e"
      },
      "execution_count": null,
      "outputs": [
        {
          "output_type": "stream",
          "name": "stdout",
          "text": [
            "Classification Report\n",
            "              precision    recall  f1-score   support\n",
            "\n",
            "      Cancer       0.68      0.65      0.67        20\n",
            "      Normal       0.91      0.93      0.92        80\n",
            "\n",
            "    accuracy                           0.87       100\n",
            "   macro avg       0.80      0.79      0.79       100\n",
            "weighted avg       0.87      0.87      0.87       100\n",
            "\n"
          ]
        }
      ]
    },
    {
      "cell_type": "code",
      "source": [
        "# Calculate confusion matrix for testing dataset\n",
        "confusion_matrix = metrics.confusion_matrix(Y_test, predicted_2)\n",
        "\n",
        "cm_display = metrics.ConfusionMatrixDisplay(confusion_matrix = confusion_matrix, display_labels = [True, False])\n",
        "\n",
        "cm_display.plot()"
      ],
      "metadata": {
        "colab": {
          "base_uri": "https://localhost:8080/",
          "height": 449
        },
        "id": "G4xylx5UvFAF",
        "outputId": "a3a22b53-0bbc-4d14-9b79-11654f755ad6"
      },
      "execution_count": null,
      "outputs": [
        {
          "output_type": "display_data",
          "data": {
            "text/plain": [
              "<Figure size 640x480 with 2 Axes>"
            ],
            "image/png": "[encoded data removed]"
          },
          "metadata": {}
        }
      ]
    },
    {
      "cell_type": "code",
      "source": [
        "Accuracy = metrics.accuracy_score(Y_test, predicted_2)"
      ],
      "metadata": {
        "colab": {
          "base_uri": "https://localhost:8080/"
        },
        "id": "nzFxZWbq02oX",
        "outputId": "3fd7b490-90b5-42ce-9f9b-e1c9ab00c0e9"
      },
      "execution_count": null,
      "outputs": [
        {
          "output_type": "stream",
          "name": "stdout",
          "text": [
            "0.87\n"
          ]
        }
      ]
    }
  ]
}